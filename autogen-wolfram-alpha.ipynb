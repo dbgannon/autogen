{
 "cells": [
  {
   "cell_type": "code",
   "execution_count": 1,
   "id": "decb524e",
   "metadata": {},
   "outputs": [
    {
     "name": "stderr",
     "output_type": "stream",
     "text": [
      "C:\\Users\\denni\\anaconda3\\lib\\site-packages\\paramiko\\transport.py:219: CryptographyDeprecationWarning: Blowfish has been deprecated\n",
      "  \"class\": algorithms.Blowfish,\n"
     ]
    }
   ],
   "source": [
    "import autogen\n",
    "\n",
    "config_list = autogen.config_list_from_json(\n",
    "    \"C:/Users/denni/OneDrive/Docs16/OAI_CONFIG_LIST5\",\n",
    "    #filter_dict={\n",
    "    #    \"model\": [\"gpt-4\", \"gpt-4-1106-preview\",\"microsoft-phi-2\",\"gpt4\", \"gpt-4-32k\", \"gpt-4-32k-0314\", \"gpt-4-32k-v0314\"],\n",
    "    #},\n",
    ")"
   ]
  },
  {
   "cell_type": "code",
   "execution_count": 2,
   "id": "0b6d2b8f",
   "metadata": {},
   "outputs": [],
   "source": [
    "from autogen.agentchat.contrib.math_user_proxy_agent import MathUserProxyAgent\n",
    "\n",
    "# 1. create an AssistantAgent instance named \"assistant\"\n",
    "coder = autogen.AssistantAgent(\n",
    "    name=\"coder\", \n",
    "    system_message='''You are a helpful assistant. you generate Python code and\n",
    "    Wolfram Alpha code as well as\n",
    "    general mathematics. When generating code you prefer Wolfram Alpha. \n",
    "    in Wolfram code remember to use * to signify multiplication.\n",
    "    However, you leave the\n",
    "    details of execution to mathproxyagent.''',\n",
    "    llm_config={\n",
    "        \"timeout\": 600,\n",
    "        \"seed\": 42,\n",
    "        \"config_list\": config_list,\n",
    "    }\n",
    "\n",
    ")\n",
    "\n",
    "mathproxyagent = MathUserProxyAgent(\n",
    "    name=\"mathproxyagent\", \n",
    "    system_message = '''You are an expert in executing Python \n",
    "    and Wolfram Alpha programs.''',\n",
    "    human_input_mode=\"NEVER\",\n",
    "    code_execution_config={\"use_docker\": False},\n",
    ")"
   ]
  },
  {
   "cell_type": "code",
   "execution_count": 3,
   "id": "2a95437e",
   "metadata": {},
   "outputs": [],
   "source": [
    "critic = autogen.AssistantAgent(\n",
    "    name=\"Critic\",\n",
    "    system_message=\"\"\"Critic. You are a helpful assistant highly skilled in evaluating the \n",
    "    quality of a code generated and \n",
    "    mathematics produced by the coder. You do not generate code, but only evaluate \n",
    "    it and look for errors. leave the code generation \n",
    "    to the coder.  in Wolfram code remember to use * to signify \n",
    "    multiplication. you leave the\n",
    "    details of execution to mathproxyagent.\n",
    "\"\"\",\n",
    "    llm_config={\n",
    "        \"timeout\": 600,\n",
    "        \"seed\": 42,\n",
    "        \"config_list\": config_list,\n",
    "    }\n",
    "\n",
    ")"
   ]
  },
  {
   "cell_type": "code",
   "execution_count": 4,
   "id": "66c0dced",
   "metadata": {},
   "outputs": [],
   "source": [
    "import os\n",
    "if \"WOLFRAM_ALPHA_APPID\" not in os.environ:\n",
    "    os.environ[\"WOLFRAM_ALPHA_APPID\"] = open(\"wolfram.txt\").read().strip()\n"
   ]
  },
  {
   "cell_type": "code",
   "execution_count": 5,
   "id": "ee739d2b",
   "metadata": {},
   "outputs": [],
   "source": [
    "groupchat = autogen.GroupChat(agents=[mathproxyagent, coder, critic], messages=[], max_round=20)\n",
    "manager = autogen.GroupChatManager(groupchat=groupchat, llm_config={\n",
    "        \"timeout\": 600,\n",
    "        \"seed\": 42,\n",
    "        \"config_list\": config_list,\n",
    "    })"
   ]
  },
  {
   "cell_type": "code",
   "execution_count": 6,
   "id": "f11fd1f1",
   "metadata": {
    "scrolled": false
   },
   "outputs": [
    {
     "name": "stdout",
     "output_type": "stream",
     "text": [
      "\u001b[33mmathproxyagent\u001b[0m (to chat_manager):\n",
      "\n",
      "Let's use two tools (Python and Wolfram alpha) to solve a math problem.\n",
      "\n",
      "Query requirements:\n",
      "You must follow the formats below to write your query:\n",
      "For Wolfram Alpha:\n",
      "```wolfram\n",
      "# one wolfram query\n",
      "```\n",
      "For Python:\n",
      "```python\n",
      "# your code\n",
      "```\n",
      "When using Python, you should always use the 'print' function for the output and use fractions/radical forms instead of decimals. You can use packages like sympy to help you.\n",
      "When using wolfram, give one query in each code block.\n",
      "\n",
      "Please follow this process:\n",
      "1. Solve the problem step by step (do not over-divide the steps).\n",
      "2. Take out any queries that can be asked through Python or Wolfram Alpha, select the most suitable tool to be used (for example, any calculations or equations that can be calculated).\n",
      "3. Wait for me to give the results.\n",
      "4. Continue if you think the result is correct. If the result is invalid or unexpected, please correct your query or reasoning.\n",
      "\n",
      "After all the queries are run and you get the answer, put the final answer in \\boxed{}.\n",
      "\n",
      "Problem: Problem: find the point on the parabola (x-3)^2 - (y+5)^2 = 7 that is closest to the\n",
      "origin.  Try using lagrange multipliers.  and use Wolfram Alpha for all algebraic simplifications. \n",
      "\n",
      "\n",
      "--------------------------------------------------------------------------------\n",
      "\u001b[33mcoder\u001b[0m (to chat_manager):\n",
      "\n",
      "To find the point on the parabola \\((x-3)^2 - (y+5)^2 = 7\\) that is closest to the origin, we can use the method of Lagrange multipliers. We want to minimize the distance from any point \\((x, y)\\) on the parabola to the origin \\((0, 0)\\). The square of the distance is \\(D^2 = x^2 + y^2\\). \n",
      "\n",
      "The constraint is given by the equation of the parabola \\((x-3)^2 - (y+5)^2 = 7\\), which we can treat as \\(g(x, y) = (x-3)^2 - (y+5)^2 - 7 = 0\\).\n",
      "\n",
      "Using Lagrange multipliers, we set up the following system of equations:\n",
      "\\[\n",
      "\\nabla D^2 = \\lambda \\nabla g(x, y)\n",
      "\\]\n",
      "where \\(\\nabla D^2\\) is the gradient of the function \\(D^2\\), \\(\\nabla g(x, y)\\) is the gradient of the constraint function \\(g(x, y)\\), and \\(\\lambda\\) is the Lagrange multiplier.\n",
      "\n",
      "The gradient of the distance squared function is\n",
      "\\[\n",
      "\\nabla D^2 = \\left\\langle 2x, 2y \\right\\rangle\n",
      "\\]\n",
      "and the gradient of the constraint function is\n",
      "\\[\n",
      "\\nabla g(x, y) = \\left\\langle 2(x - 3), -2(y + 5) \\right\\rangle\n",
      "\\]\n",
      "\n",
      "Setting \\(\\nabla D^2\\) equal to \\(\\lambda \\nabla g(x, y)\\), we have two equations:\n",
      "\\[\n",
      "2x = \\lambda \\cdot 2(x - 3) \\\\\n",
      "2y = \\lambda \\cdot -2(y + 5)\n",
      "\\]\n",
      "and our constraint\n",
      "\\[\n",
      "(x-3)^2 - (y+5)^2 = 7\n",
      "\\]\n",
      "\n",
      "Let's form the system of equations for Wolfram Alpha to solve:\n",
      "\n",
      "```wolfram\n",
      "solve 2x = 2 lambda (x - 3), 2y = -2 lambda (y + 5), (x - 3)^2 - (y + 5)^2 = 7 for x, y, lambda\n",
      "```\n",
      "\n",
      "Now, let's wait for your result to proceed with confirming the solution or adjusting our approach.\n",
      "\n",
      "--------------------------------------------------------------------------------\n",
      "\u001b[33mCritic\u001b[0m (to chat_manager):\n",
      "\n",
      "There seems to be an error in the equations you provided to solve with Wolfram Alpha. You haven't taken the 2 out of the equation in the lambda terms. I can correct the equations for you before we proceed with solving them in Wolfram Alpha:\n",
      "\n",
      "```wolfram\n",
      "solve 2x = lambda * 2 * (x - 3), 2y = -lambda * 2 * (y + 5), (x - 3)^2 - (y + 5)^2 = 7 for x, y, lambda\n",
      "```\n",
      "\n",
      "Please use the corrected query.\n",
      "\n",
      "--------------------------------------------------------------------------------\n",
      "\u001b[33mmathproxyagent\u001b[0m (to chat_manager):\n",
      "\n",
      "Assumption: solve 2 x = λ×2 (x - 3)\n",
      "2 y = -λ (2 (y + 5))\n",
      "(x - 3)^2 - (y + 5)^2 = 7 for x, y, λ \n",
      "Answer: ans 0: x≈-1.56708 ∧ y≈-1.27734 ∧ λ≈0.343125\n",
      "ans 1: x≈6.14046 ∧ y≈-3.30811 ∧ λ≈1.95527\n",
      "ans 2: x≈2.21331 - 0.692268 i ∧ y≈-5.20728 - 2.62742 i ∧ λ≈-1.1492 + 1.89124 i\n",
      "ans 3: x≈2.21331 + 0.692268 i ∧ y≈-5.20728 + 2.62742 i ∧ λ≈-1.1492 - 1.89124 i\n",
      "\n",
      "--------------------------------------------------------------------------------\n",
      "\u001b[33mcoder\u001b[0m (to chat_manager):\n",
      "\n",
      "The Wolfram Alpha query yields four sets of solutions, two of which are complex and therefore not relevant to our real-world geometric problem. The remaining two solutions are real and correspond to points on the parabola.\n",
      "\n",
      "The real solutions are:\n",
      "1. \\( x \\approx -1.56708 \\), \\( y \\approx -1.27734 \\), \\( \\lambda \\approx 0.343125 \\)\n",
      "2. \\( x \\approx 6.14046 \\), \\( y \\approx -3.30811 \\), \\( \\lambda \\approx 1.95527 \\)\n",
      "\n",
      "Since we are looking for the closest point to the origin, we can calculate the distance \\( D^2 = x^2 + y^2 \\) for each real point and choose the one with the lesser value. Let's calculate the distance squared for both points:\n",
      "\n",
      "For solution 1:\n",
      "```wolfram\n",
      "distanceSquared1 = (-1.56708)^2 + (-1.27734)^2\n",
      "```\n",
      "\n",
      "For solution 2:\n",
      "```wolfram\n",
      "distanceSquared2 = (6.14046)^2 + (-3.30811)^2\n",
      "```\n",
      "\n",
      "Then we will compare these two distances. Let's calculate these distances and see which point is the closest. Please execute the queries.\n",
      "\n",
      "--------------------------------------------------------------------------------\n",
      "\u001b[33mCritic\u001b[0m (to chat_manager):\n",
      "\n",
      "There seems to be a misunderstanding. Your previous messages indicated that you want me to check the code and look for errors but not generate code myself. Therefore, I will correct the formatting in your request for the Wolfram Alpha query but will not generate a new query.\n",
      "\n",
      "For the distance squared for solution 1, the query should be properly formatted as:\n",
      "```wolfram\n",
      "(-1.56708)^2 + (-1.27734)^2\n",
      "```\n",
      "\n",
      "And for the distance squared for solution 2, the query should be:\n",
      "```wolfram\n",
      "(6.14046)^2 + (-3.30811)^2\n",
      "```\n",
      "\n",
      "Make sure to run each of these queries separately in Wolfram Alpha to get the distances for the solutions. Then, you can compare the results to find out which point is closest to the origin.\n",
      "\n",
      "--------------------------------------------------------------------------------\n",
      "\u001b[33mmathproxyagent\u001b[0m (to chat_manager):\n",
      "\n",
      "Assumption: (-1.56708)^2 + (-1.27734)^2 \n",
      "Answer: 4.087337202\n",
      "Assumption: 6.14046^2 + (-3.30811)^2 \n",
      "Answer: 48.6488407837\n",
      "\n",
      "--------------------------------------------------------------------------------\n",
      "\u001b[33mcoder\u001b[0m (to chat_manager):\n",
      "\n",
      "The distances squared of the points from the origin are:\n",
      "1. For the point \\((-1.56708, -1.27734)\\): \\(D^2 \\approx 4.08734\\)\n",
      "2. For the point \\((6.14046, -3.30811)\\): \\(D^2 \\approx 48.64884\\)\n",
      "\n",
      "Since we are interested in the point that is closest to the origin, we choose the one with the smaller distance squared, which is the first point:\n",
      "\n",
      "\\[\n",
      "\\boxed{(-1.56708, -1.27734)}\n",
      "\\]\n",
      "\n",
      "This point is the closest to the origin on the parabola \\((x-3)^2 - (y+5)^2 = 7\\).\n",
      "\n",
      "--------------------------------------------------------------------------------\n",
      "\u001b[33mCritic\u001b[0m (to chat_manager):\n",
      "\n",
      "The final boxed answer appears to be correct based on the comparisons of the distances squared. However, it is worth noting that the results provided are decimal approximations, not exact values. In formal or academic work, it is often necessary or preferable to provide the exact values in fractional or radical form.\n",
      "\n",
      "Nevertheless, based on the context given and the objective to find the closest point on the given parabola, the conclusion with the approximate values seems justified:\n",
      "\n",
      "\\[\n",
      "\\boxed{(-1.56708, -1.27734)}\n",
      "\\]\n",
      "\n",
      "As per the constraints of this interaction, that is indeed the point on the parabola that is closest to the origin.\n",
      "\n",
      "--------------------------------------------------------------------------------\n"
     ]
    }
   ],
   "source": [
    "import os\n",
    "\n",
    "math_problem = '''Problem: find the point on the parabola (x-3)^2 - (y+5)^2 = 7 that is closest to the\n",
    "origin.  Try using lagrange multipliers.  and use Wolfram Alpha for all algebraic simplifications. \n",
    "'''\n",
    "mathproxyagent.initiate_chat(manager, problem=math_problem, prompt_type=\"two_tools\")"
   ]
  },
  {
   "cell_type": "markdown",
   "id": "5d4919f3",
   "metadata": {},
   "source": [
    "illustrate a direct call to wolfram alpha"
   ]
  },
  {
   "cell_type": "code",
   "execution_count": 10,
   "id": "fefd0788",
   "metadata": {},
   "outputs": [
    {
     "name": "stdout",
     "output_type": "stream",
     "text": [
      "(the variable λ is not present in the given system)\n"
     ]
    }
   ],
   "source": [
    "import wolframalpha\n",
    "\n",
    "# Initialize the client with your AppID\n",
    "client = wolframalpha.Client('P7xxxxxxxxxPTX')\n",
    "\n",
    "# Query Wolfram Alpha\n",
    "res = client.query(\"solve 2x = 2 lambda (x - 3), 2y = -2 lambda (y + 5), (x - 3)^2 - (y + 5)^2 = 7 for x, y, lambda\" )\n",
    "#print(res)\n",
    "# Print the result\n",
    "print(next(res.results).text)"
   ]
  },
  {
   "cell_type": "markdown",
   "id": "905548ac",
   "metadata": {},
   "source": [
    " The constraint is given by the equation of the parabola $(x-3)^2 - (y+5)^2 = 7$, which we can treat as\n",
    " $g(x, y) = (x-3)^2 - (y+5)^2 - 7 = 0$.\n",
    "\n"
   ]
  },
  {
   "cell_type": "markdown",
   "id": "e9765c48",
   "metadata": {},
   "source": [
    "Using Lagrange multipliers, we set up the following system of equations:\n",
    "$$\n",
    "\\nabla D^2 = \\lambda \\nabla g(x, y)\n",
    "$$\n",
    "where $\\nabla D^2$ is the gradient of the function $D^2$, $\\nabla g(x, y)$ is the gradient of the constraint function $g(x, y)$, and $\\lambda$ is the Lagrange multiplier.\n",
    "\n"
   ]
  },
  {
   "cell_type": "markdown",
   "id": "0ffaf716",
   "metadata": {},
   "source": [
    "The gradient of the distance squared function is\n",
    "$$\n",
    "\\nabla D^2 = \\left\\langle 2x, 2y \\right\\rangle\n",
    "$$\n",
    "and the gradient of the constraint function is\n",
    "$$\n",
    "\\nabla g(x, y) = \\left\\langle 2(x - 3), -2(y + 5) \\right\\rangle\n",
    "$$\n"
   ]
  },
  {
   "cell_type": "markdown",
   "id": "6fda8165",
   "metadata": {},
   "source": [
    "Setting $\\nabla D^2$ equal to \\($\\lambda \\nabla g(x, y)$\\), we have two equations:\n",
    "$$\n",
    "2x = \\lambda \\cdot 2(x - 3) \\\\\n",
    "2y = \\lambda \\cdot -2(y + 5)\n",
    "$$\n",
    "and our constraint\n",
    "$$\n",
    "(x-3)^2 - (y+5)^2 = 7\n",
    "$$\n"
   ]
  },
  {
   "cell_type": "code",
   "execution_count": 18,
   "id": "bde15b34",
   "metadata": {},
   "outputs": [],
   "source": [
    "from autogen import OpenAIWrapper\n",
    "client = OpenAIWrapper(config_list=config_list)\n",
    "# ChatCompletion\n",
    "response = client.create(messages=[{\"role\": \"user\", \"content\": '''what is the difference \n",
    "between a parabola and a hyperbola'''}])"
   ]
  },
  {
   "cell_type": "code",
   "execution_count": 19,
   "id": "fbd47d2a",
   "metadata": {},
   "outputs": [
    {
     "name": "stdout",
     "output_type": "stream",
     "text": [
      "Both parabola and hyperbola are types of conic sections, which are curves obtained by intersecting a cone with a plane. They have different geometric properties and equations.\n",
      "\n",
      "Parabola:\n",
      "1. A parabola is the set of all points in a plane that are equidistant from a fixed point (the focus) and a fixed line (the directrix).\n",
      "2. The parabola has one axis of symmetry, which passes through the focus and is perpendicular to the directrix.\n",
      "3. The standard equation of a parabola with its vertex at the origin and axis of symmetry along the x-axis is \\(y^2 = 4ax\\) or \\(x^2 = 4ay\\), where \\(a\\) is the distance from the vertex to the focus.\n",
      "4. A parabola opens either upwards or downwards (when the axis of symmetry is vertical) or to the right or left (when the axis of symmetry is horizontal), but it does not close on itself; it extends infinitely.\n",
      "5. Parabolas have one branch.\n",
      "\n",
      "Hyperbola:\n",
      "1. A hyperbola, on the other hand, is the set of all points in a plane where the absolute difference in distances from two fixed points (the foci) is constant.\n",
      "2. The hyperbola has two axes of symmetry, one passing through the midpoints of the line segment joining the foci (the transverse axis) and the other perpendicular to the transverse axis at its midpoint (the conjugate axis).\n",
      "3. The standard equation of a hyperbola centered at the origin is \\(\\frac{x^2}{a^2} - \\frac{y^2}{b^2} = 1\\) for a hyperbola opening left and right along the x-axis, or \\(\\frac{y^2}{a^2} - \\frac{x^2}{b^2} = 1\\) for one opening up and down along the y-axis, where \\(a\\) and \\(b\\) are the distances from the center to the vertices and co-vertices, respectively.\n",
      "4. The hyperbola consists of two separate curved branches, each one approaching asymptotes as they extend infinitely in both directions.\n",
      "5. Hyperbolas have two branches.\n",
      "\n",
      "In simple terms, the parabola opens in one direction and has a curved shape like a U or an inverted U, whereas the hyperbola consists of two separate curves that open in opposite directions, roughly resembling two back-to-back, infinite arches.\n"
     ]
    }
   ],
   "source": [
    "def format_clean(s):\n",
    "    out = ''\n",
    "    for i in range(len(s)):\n",
    "        if (s[i] == '\\\\') and (s[i+1] == 'n'):\n",
    "            out = out+'/n'\n",
    "        else:\n",
    "            out = out+s[i]\n",
    "    return out\n",
    "\n",
    "print(format_clean(client.extract_text_or_function_call(response)))  "
   ]
  },
  {
   "cell_type": "code",
   "execution_count": null,
   "id": "8ebf923f",
   "metadata": {},
   "outputs": [],
   "source": []
  }
 ],
 "metadata": {
  "kernelspec": {
   "display_name": "Python 3 (ipykernel)",
   "language": "python",
   "name": "python3"
  },
  "language_info": {
   "codemirror_mode": {
    "name": "ipython",
    "version": 3
   },
   "file_extension": ".py",
   "mimetype": "text/x-python",
   "name": "python",
   "nbconvert_exporter": "python",
   "pygments_lexer": "ipython3",
   "version": "3.8.8"
  }
 },
 "nbformat": 4,
 "nbformat_minor": 5
}
